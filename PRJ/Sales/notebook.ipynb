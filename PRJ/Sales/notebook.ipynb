{
 "cells": [
  {
   "cell_type": "markdown",
   "metadata": {},
   "source": []
  },
  {
   "cell_type": "code",
   "execution_count": 114,
   "metadata": {},
   "outputs": [],
   "source": [
    "import pandas as pd\n",
    "import numpy as np\n",
    "import seaborn as sns\n",
    "import os\n",
    "import re\n"
   ]
  },
  {
   "cell_type": "code",
   "execution_count": 115,
   "metadata": {},
   "outputs": [],
   "source": [
    "path='//192.168.14.50/Public/ВЫГРУЗКИ/'\n",
    "files=os.listdir(path)\n"
   ]
  },
  {
   "cell_type": "code",
   "execution_count": 116,
   "metadata": {},
   "outputs": [],
   "source": [
    "\n",
    "def shop_name(shop):\n",
    "\n",
    "    m1 = re.compile('([0-9]{2}-[0-9]{,2}-)([0-9]{,3})')\n",
    "    m = m1.findall(shop)\n",
    "    for i in range(len(m)):\n",
    "        m[i] = m[i][0] + ('000' + m[i][1])[-3:]\n",
    "    return m[0]"
   ]
  },
  {
   "cell_type": "code",
   "execution_count": 117,
   "metadata": {},
   "outputs": [],
   "source": [
    "\n",
    "ds=pd.read_csv(path + 'ПРОДАЖИ ПО ДНЯМ (таблица для анализа) от 04-09-24.txt', sep='\\t')\n",
    "ds['Выручка,']=ds['Выручка,'].str.replace(',','.')\n",
    "ds['Выручка,']=ds['Выручка,'].str.replace(chr(160),'')\n",
    "ds['Количество']=ds['Количество'].str.replace(',','.')\n",
    "ds['Выручка,']=pd.to_numeric(ds['Выручка,'])\n",
    "ds['День.Начало дня']=pd.to_datetime(ds['День.Начало дня'],dayfirst=True,errors='coerce')\n",
    "ds=ds[ds['День.Начало дня'].isna()==False]\n",
    "ds=ds.assign(Номер_тт= ds['Склад / магазин'].apply(shop_name))\n",
    "ds[['key','product']]=ds['Код, Номенклатура'].str.split(',',n=1,expand=True)\n",
    "ds['Выручка,'].fillna(0)\n",
    "ds['Количество']=pd.to_numeric(ds['Количество'])\n",
    "ds= ds.dropna(subset=['Количество'])\n",
    "ds=ds.drop(['Код, Номенклатура'],axis=1)\n",
    "ds['weekday']= pd.DatetimeIndex(ds['День.Начало дня']).weekday\n",
    "ds['day']= pd.DatetimeIndex(ds['День.Начало дня']).day\n",
    "ds['month']= pd.DatetimeIndex(ds['День.Начало дня']).month\n",
    "ds['year']= pd.DatetimeIndex(ds['День.Начало дня']).year\n"
   ]
  },
  {
   "cell_type": "code",
   "execution_count": 118,
   "metadata": {},
   "outputs": [],
   "source": [
    "ds.columns=['date', 'shop_name', 'person', 'feature',\n",
    "       'amount', 'sales', 'shop_id', 'key', 'product','weekday','day','month', 'year'       ]"
   ]
  },
  {
   "cell_type": "code",
   "execution_count": null,
   "metadata": {},
   "outputs": [],
   "source": [
    "ds.describe(include='all')"
   ]
  },
  {
   "cell_type": "code",
   "execution_count": 120,
   "metadata": {},
   "outputs": [],
   "source": [
    "ds_prod=ds[['product','key','feature']].drop_duplicates().reset_index(drop=True)\n",
    "ds_shops=ds[['shop_name']].drop_duplicates().reset_index(drop=True)\n",
    "ds=ds.reset_index(drop=True)"
   ]
  },
  {
   "cell_type": "code",
   "execution_count": 121,
   "metadata": {},
   "outputs": [],
   "source": [
    "daily_per_shop=ds.groupby(['shop_id','weekday','day','month','year'],as_index=False).agg({'key':['count'],'amount':['sum','mean','median','std'],'sales':['sum','mean','median','std']})\n",
    "daily_per_shop.columns=[ '_'.join(x) for x in daily_per_shop.columns]\n"
   ]
  },
  {
   "cell_type": "code",
   "execution_count": null,
   "metadata": {},
   "outputs": [],
   "source": [
    "daily_per_shop"
   ]
  },
  {
   "cell_type": "code",
   "execution_count": null,
   "metadata": {},
   "outputs": [],
   "source": []
  }
 ],
 "metadata": {
  "kernelspec": {
   "display_name": "Python 3",
   "language": "python",
   "name": "python3"
  },
  "language_info": {
   "codemirror_mode": {
    "name": "ipython",
    "version": 3
   },
   "file_extension": ".py",
   "mimetype": "text/x-python",
   "name": "python",
   "nbconvert_exporter": "python",
   "pygments_lexer": "ipython3",
   "version": "3.12.4"
  }
 },
 "nbformat": 4,
 "nbformat_minor": 2
}
