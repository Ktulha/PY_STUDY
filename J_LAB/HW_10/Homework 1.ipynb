{
 "cells": [
  {
   "cell_type": "markdown",
   "id": "9658011a",
   "metadata": {
    "id": "9658011a"
   },
   "source": [
    "# Задача №1\n",
    "\n",
    "Напишите функцию `find_sum_elements()`, которая принимает на вход массив nums и число target и возвращает массив, содержащий индексы двух элементов nums, сумма которых равна target.\n",
    "\n",
    "Примеры:\n",
    "- `find_sum_elements([2,7,11,15], 9) = [2, 7]`\n",
    "- `find_sum_elements([3, 2, 4], 6) = [2, 4]`\n",
    "\n",
    "Важные детали\n",
    "- Гарантируется, что такие два числа всегда в nums существуют.\n",
    "- Порядок элементов в ответе не важен.\n",
    "\n",
    "Попробуйте придумать, при помощи какой структуры данных можно решить эту задачу за один проход по массиву?"
   ]
  },
  {
   "cell_type": "code",
   "execution_count": 98,
   "id": "b165abc5",
   "metadata": {
    "id": "b165abc5"
   },
   "outputs": [],
   "source": [
    "# Замените тело функции на своё решение\n",
    "def find_sum_elements(nums, target):\n",
    "    result={}\n",
    "    for i in range(len(nums)):\n",
    "        if target-nums[i]>=0:\n",
    "            t=result.get(target-nums[i],-1)\n",
    "            result[nums[i]]=i\n",
    "            if t>=0:\n",
    "                return [i,t]"
   ]
  },
  {
   "cell_type": "markdown",
   "id": "7fb5e31f",
   "metadata": {
    "id": "7fb5e31f"
   },
   "source": [
    "## Проверьте себя\n",
    "\n",
    "Ячейка ниже содержит тесты, при помощи которых можно проверить корретность решения. Просто выполните ячейку и она распечатает результат."
   ]
  },
  {
   "cell_type": "code",
   "execution_count": 100,
   "id": "4bfc9a4f",
   "metadata": {
    "id": "4bfc9a4f"
   },
   "outputs": [
    {
     "name": "stdout",
     "output_type": "stream",
     "text": [
      "\n",
      "Количество правильно решённых тестов: 6 из 6\n",
      "Отличный результат!\n"
     ]
    }
   ],
   "source": [
    "def test_task_1():\n",
    "    tests = (\n",
    "        ([2, 11, 15, 7], 9),\n",
    "        ([3, 2, 4], 6),\n",
    "        ([0, 0, 1], 0),\n",
    "        ([3, 2, 1], 4),\n",
    "        ([1, 3, 6, 7, 9], 10),\n",
    "        ([14, 23,1,7, 6,8, 7, 9,2,0,3], 11),\n",
    "    )\n",
    "    num_correct = 0\n",
    "    for nums, target in tests:\n",
    "        result = find_sum_elements(nums, target)\n",
    "        if not isinstance(result, list):\n",
    "            print(f'find_sum_elements() должна возвращать массив, а не {type(result)} (nums={nums}, target={target})')\n",
    "            continue\n",
    "        if len(result) != 2:\n",
    "            print(f'find_sum_elements() должна возвращать массив из двух элементов (nums={nums}, target={target})')\n",
    "            continue\n",
    "        if result[0] == result[1]:\n",
    "            print(f'find_sum_elements() вернула два одинаковых индекса')\n",
    "            continue\n",
    "        if result[0] >= len(nums) or result[1] >= len(nums):\n",
    "            print(f'Один из индексов выходит за границы nums')\n",
    "            continue\n",
    "        if nums[result[0]] + nums[result[1]] != target:\n",
    "            print(f'Сумма элементов nums={nums} с индексами {result[0]} и {result[1]} не равна {target}')\n",
    "            continue\n",
    "        num_correct += 1\n",
    "    print()\n",
    "    print(f'Количество правильно решённых тестов: {num_correct} из {len(tests)}')\n",
    "    if num_correct == len(tests):\n",
    "        print('Отличный результат!')\n",
    "\n",
    "test_task_1()\n"
   ]
  },
  {
   "cell_type": "markdown",
   "id": "ed1fd8a9",
   "metadata": {
    "id": "ed1fd8a9"
   },
   "source": [
    "# Задача №2\n",
    "\n",
    "Панграмма – это фраза, содержащая все буквы алфавита, например «Съешь же ещё этих мягких французских булок да выпей чаю».\n",
    "\n",
    "Напишите функцию, которая принимает на вход одну строку и проверяет, является ли она панграммой\n",
    "на русском языке.\n",
    "\n",
    "Важные детали\n",
    "- Функция должна возвращать True или False\n",
    "- Функции могут содержать строчные и заглавные буквы. Все строку можно буквы можно превратить в строчные при помощи метода .lower()\n",
    "- Используйте операции сравнения, чтобы проверить, входит ли буква в диапазон букв русского алфавита: `c >= 'а' and с <= 'я'`\n"
   ]
  },
  {
   "cell_type": "code",
   "execution_count": 128,
   "id": "08b922e1",
   "metadata": {
    "id": "08b922e1"
   },
   "outputs": [
    {
     "name": "stdout",
     "output_type": "stream",
     "text": [
      "абв\n"
     ]
    }
   ],
   "source": [
    "# Пример работы с lower\n",
    "\n",
    "s = 'АБВ'\n",
    "s_lower = s.lower()\n",
    "print(s_lower)\n",
    "\n",
    "# вспомогательная функция, которая проверяет, является ли символ буквой русского языка\n",
    "def is_russian_alphabet_letter(c):\n",
    "    return len(c) == 1 and (\n",
    "        c >= 'а' and c <= 'я'\n",
    "        # буква ё может кодироваться разными способами, поэтому проверим её отдельно\n",
    "        or c == 'ё'\n",
    "    )"
   ]
  },
  {
   "cell_type": "code",
   "execution_count": 163,
   "id": "aa1ad375-e9ca-4e8c-a636-83c6128387a7",
   "metadata": {},
   "outputs": [],
   "source": [
    "def is_pangram(s):\n",
    "    cyr_list='абвгдеёжзийклмнопрстуфхцчшщъыьэюя'\n",
    "    t={a:0 for a in cyr_list}\n",
    "    s=s.lower()    \n",
    "    for i in range(len(s)):\n",
    "        if t.get(s[i])!=None and is_russian_alphabet_letter(s[i]):\n",
    "            t[s[i]]+=1\n",
    "\n",
    "    return len(list(filter(lambda itm: itm[1]==0,t.items())))==0"
   ]
  },
  {
   "cell_type": "code",
   "execution_count": 164,
   "id": "6116506e",
   "metadata": {
    "id": "6116506e"
   },
   "outputs": [],
   "source": [
    "def other_way(s):\n",
    "    d=[chr(i) for i in range(ord('а'), ord('я')+1)]+['ё']\n",
    "    t=[x for x in d if x not in set(s.lower())]    \n",
    "    return len(t)==0"
   ]
  },
  {
   "cell_type": "markdown",
   "id": "3fe636a2-8abc-4798-bc3a-d0dedc197877",
   "metadata": {},
   "source": [
    "Протестим на скорость"
   ]
  },
  {
   "cell_type": "code",
   "execution_count": null,
   "id": "76e699c9-76de-4e29-8a76-f9540ffbb86f",
   "metadata": {},
   "outputs": [],
   "source": [
    "import timeit\n",
    "\n",
    "text='Съешь же ещё этих мягких французских булок да выпей чаю'\n",
    "def t1():\n",
    "    is_pangram(text)\n",
    "def t2():\n",
    "    other_way(text)\n",
    "\n",
    "res={\n",
    "    'is_pangram: ':timeit.timeit(t1,number=1000),\n",
    "    'other_way: ':timeit.timeit(t2,number=1000),\n",
    "}\n",
    "print(sorted(res.items(), key=lambda x: x[1]))"
   ]
  },
  {
   "cell_type": "markdown",
   "id": "72f9d663",
   "metadata": {
    "id": "72f9d663"
   },
   "source": [
    "## Проверьте себя\n",
    "\n",
    "Ячейка ниже содержит тесты, при помощи которых можно проверить корретность решения. Просто выполните ячейку и она распечатает результат."
   ]
  },
  {
   "cell_type": "code",
   "execution_count": 162,
   "id": "9f7cd780",
   "metadata": {
    "colab": {
     "base_uri": "https://localhost:8080/",
     "height": 355
    },
    "executionInfo": {
     "elapsed": 309,
     "status": "error",
     "timestamp": 1694707938251,
     "user": {
      "displayName": "productstar homework",
      "userId": "17463514396133947951"
     },
     "user_tz": -180
    },
    "id": "9f7cd780",
    "outputId": "68141617-78f8-42c7-f24b-bd9fc8cae42c"
   },
   "outputs": [
    {
     "name": "stdout",
     "output_type": "stream",
     "text": [
      "\n",
      "Количество правильно решённых тестов: 5 из 5\n",
      "Отличный результат!\n"
     ]
    }
   ],
   "source": [
    "def test_task_2():\n",
    "    tests = (\n",
    "        ('Съешь же ещё этих мягких французских булок да выпей чаю', True),\n",
    "        ('Широкая электрификация южных губерний даст мощный толчок подъёму сельского хозяйства', True),\n",
    "        ('В чащах юга жил бы цитрус? Да, но фальшивый экземпляр!', False),\n",
    "        ('А роза упала на лапу Азора', False),\n",
    "        ('Мои папа и мама! Я живу хорошо. Просто замечательно. У меня есть свой дом', False),\n",
    "    )\n",
    "    num_correct = 0\n",
    "    for test, correct_answer in tests:\n",
    "        result = is_pangram(test)\n",
    "        if result != correct_answer:\n",
    "            print(f'Проверьте свою функцию на строке \"{test}\"')\n",
    "            continue\n",
    "        num_correct += 1\n",
    "    print()\n",
    "    print(f'Количество правильно решённых тестов: {num_correct} из {len(tests)}')\n",
    "    if num_correct == len(tests):\n",
    "        print('Отличный результат!')\n",
    "\n",
    "test_task_2()"
   ]
  },
  {
   "cell_type": "code",
   "execution_count": null,
   "id": "9b8f4f9e-9a8b-4dff-af89-65fd1310e19e",
   "metadata": {},
   "outputs": [],
   "source": []
  }
 ],
 "metadata": {
  "colab": {
   "provenance": []
  },
  "kernelspec": {
   "display_name": "Python 3 (ipykernel)",
   "language": "python",
   "name": "python3"
  },
  "language_info": {
   "codemirror_mode": {
    "name": "ipython",
    "version": 3
   },
   "file_extension": ".py",
   "mimetype": "text/x-python",
   "name": "python",
   "nbconvert_exporter": "python",
   "pygments_lexer": "ipython3",
   "version": "3.12.4"
  }
 },
 "nbformat": 4,
 "nbformat_minor": 5
}
