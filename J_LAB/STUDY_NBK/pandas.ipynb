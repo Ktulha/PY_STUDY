{
 "cells": [
  {
   "cell_type": "markdown",
   "id": "7695bfdc-1692-4138-8900-9179bc0f3804",
   "metadata": {
    "id": "7695bfdc-1692-4138-8900-9179bc0f3804"
   },
   "source": [
    "### Установка"
   ]
  },
  {
   "cell_type": "code",
   "execution_count": null,
   "id": "4e9f0d27-d92f-4f6b-9770-af50504afd16",
   "metadata": {
    "id": "4e9f0d27-d92f-4f6b-9770-af50504afd16"
   },
   "outputs": [],
   "source": [
    "# ! pip install pandas\n",
    "\n",
    "# обычно вместе с ним идут numpy и matplotlib\n",
    "# ! pip install numpy matplotlib"
   ]
  },
  {
   "cell_type": "markdown",
   "id": "4528f577-d61b-4df5-99c5-418acc98a2ac",
   "metadata": {
    "id": "4528f577-d61b-4df5-99c5-418acc98a2ac"
   },
   "source": [
    "### Скачиваем датасет и читаем его в pandas"
   ]
  },
  {
   "cell_type": "code",
   "execution_count": 1,
   "id": "703bbda2-9428-42a4-9d43-3e6edcf1fe4e",
   "metadata": {
    "id": "703bbda2-9428-42a4-9d43-3e6edcf1fe4e",
    "outputId": "7e1bef46-a66a-4540-a59a-57291a618def"
   },
   "outputs": [
    {
     "data": {
      "text/plain": [
       "('movie.csv', <http.client.HTTPMessage at 0x20b0632df10>)"
      ]
     },
     "execution_count": 1,
     "metadata": {},
     "output_type": "execute_result"
    }
   ],
   "source": [
    "import urllib.request\n",
    "\n",
    "url = \"https://raw.githubusercontent.com/PacktPublishing/Pandas-Cookbook-Second-Edition/master/data/movie.csv\"\n",
    "filename = \"movie.csv\"\n",
    "\n",
    "urllib.request.urlretrieve(url, filename)"
   ]
  },
  {
   "cell_type": "code",
   "execution_count": 2,
   "id": "2fff3581-1ca4-45a7-9c24-26e3c38a6d04",
   "metadata": {
    "id": "2fff3581-1ca4-45a7-9c24-26e3c38a6d04",
    "outputId": "284e7ea9-d82a-40bc-ca88-627054b00d0d"
   },
   "outputs": [
    {
     "data": {
      "text/html": [
       "<div>\n",
       "<style scoped>\n",
       "    .dataframe tbody tr th:only-of-type {\n",
       "        vertical-align: middle;\n",
       "    }\n",
       "\n",
       "    .dataframe tbody tr th {\n",
       "        vertical-align: top;\n",
       "    }\n",
       "\n",
       "    .dataframe thead th {\n",
       "        text-align: right;\n",
       "    }\n",
       "</style>\n",
       "<table border=\"1\" class=\"dataframe\">\n",
       "  <thead>\n",
       "    <tr style=\"text-align: right;\">\n",
       "      <th></th>\n",
       "      <th>color</th>\n",
       "      <th>director_name</th>\n",
       "      <th>num_critic_for_reviews</th>\n",
       "      <th>duration</th>\n",
       "      <th>director_facebook_likes</th>\n",
       "      <th>actor_3_facebook_likes</th>\n",
       "      <th>actor_2_name</th>\n",
       "      <th>actor_1_facebook_likes</th>\n",
       "      <th>gross</th>\n",
       "      <th>genres</th>\n",
       "      <th>...</th>\n",
       "      <th>num_user_for_reviews</th>\n",
       "      <th>language</th>\n",
       "      <th>country</th>\n",
       "      <th>content_rating</th>\n",
       "      <th>budget</th>\n",
       "      <th>title_year</th>\n",
       "      <th>actor_2_facebook_likes</th>\n",
       "      <th>imdb_score</th>\n",
       "      <th>aspect_ratio</th>\n",
       "      <th>movie_facebook_likes</th>\n",
       "    </tr>\n",
       "  </thead>\n",
       "  <tbody>\n",
       "    <tr>\n",
       "      <th>0</th>\n",
       "      <td>Color</td>\n",
       "      <td>James Cameron</td>\n",
       "      <td>723.0</td>\n",
       "      <td>178.0</td>\n",
       "      <td>0.0</td>\n",
       "      <td>855.0</td>\n",
       "      <td>Joel David Moore</td>\n",
       "      <td>1000.0</td>\n",
       "      <td>760505847.0</td>\n",
       "      <td>Action|Adventure|Fantasy|Sci-Fi</td>\n",
       "      <td>...</td>\n",
       "      <td>3054.0</td>\n",
       "      <td>English</td>\n",
       "      <td>USA</td>\n",
       "      <td>PG-13</td>\n",
       "      <td>237000000.0</td>\n",
       "      <td>2009.0</td>\n",
       "      <td>936.0</td>\n",
       "      <td>7.9</td>\n",
       "      <td>1.78</td>\n",
       "      <td>33000</td>\n",
       "    </tr>\n",
       "    <tr>\n",
       "      <th>1</th>\n",
       "      <td>Color</td>\n",
       "      <td>Gore Verbinski</td>\n",
       "      <td>302.0</td>\n",
       "      <td>169.0</td>\n",
       "      <td>563.0</td>\n",
       "      <td>1000.0</td>\n",
       "      <td>Orlando Bloom</td>\n",
       "      <td>40000.0</td>\n",
       "      <td>309404152.0</td>\n",
       "      <td>Action|Adventure|Fantasy</td>\n",
       "      <td>...</td>\n",
       "      <td>1238.0</td>\n",
       "      <td>English</td>\n",
       "      <td>USA</td>\n",
       "      <td>PG-13</td>\n",
       "      <td>300000000.0</td>\n",
       "      <td>2007.0</td>\n",
       "      <td>5000.0</td>\n",
       "      <td>7.1</td>\n",
       "      <td>2.35</td>\n",
       "      <td>0</td>\n",
       "    </tr>\n",
       "    <tr>\n",
       "      <th>2</th>\n",
       "      <td>Color</td>\n",
       "      <td>Sam Mendes</td>\n",
       "      <td>602.0</td>\n",
       "      <td>148.0</td>\n",
       "      <td>0.0</td>\n",
       "      <td>161.0</td>\n",
       "      <td>Rory Kinnear</td>\n",
       "      <td>11000.0</td>\n",
       "      <td>200074175.0</td>\n",
       "      <td>Action|Adventure|Thriller</td>\n",
       "      <td>...</td>\n",
       "      <td>994.0</td>\n",
       "      <td>English</td>\n",
       "      <td>UK</td>\n",
       "      <td>PG-13</td>\n",
       "      <td>245000000.0</td>\n",
       "      <td>2015.0</td>\n",
       "      <td>393.0</td>\n",
       "      <td>6.8</td>\n",
       "      <td>2.35</td>\n",
       "      <td>85000</td>\n",
       "    </tr>\n",
       "    <tr>\n",
       "      <th>3</th>\n",
       "      <td>Color</td>\n",
       "      <td>Christopher Nolan</td>\n",
       "      <td>813.0</td>\n",
       "      <td>164.0</td>\n",
       "      <td>22000.0</td>\n",
       "      <td>23000.0</td>\n",
       "      <td>Christian Bale</td>\n",
       "      <td>27000.0</td>\n",
       "      <td>448130642.0</td>\n",
       "      <td>Action|Thriller</td>\n",
       "      <td>...</td>\n",
       "      <td>2701.0</td>\n",
       "      <td>English</td>\n",
       "      <td>USA</td>\n",
       "      <td>PG-13</td>\n",
       "      <td>250000000.0</td>\n",
       "      <td>2012.0</td>\n",
       "      <td>23000.0</td>\n",
       "      <td>8.5</td>\n",
       "      <td>2.35</td>\n",
       "      <td>164000</td>\n",
       "    </tr>\n",
       "    <tr>\n",
       "      <th>4</th>\n",
       "      <td>NaN</td>\n",
       "      <td>Doug Walker</td>\n",
       "      <td>NaN</td>\n",
       "      <td>NaN</td>\n",
       "      <td>131.0</td>\n",
       "      <td>NaN</td>\n",
       "      <td>Rob Walker</td>\n",
       "      <td>131.0</td>\n",
       "      <td>NaN</td>\n",
       "      <td>Documentary</td>\n",
       "      <td>...</td>\n",
       "      <td>NaN</td>\n",
       "      <td>NaN</td>\n",
       "      <td>NaN</td>\n",
       "      <td>NaN</td>\n",
       "      <td>NaN</td>\n",
       "      <td>NaN</td>\n",
       "      <td>12.0</td>\n",
       "      <td>7.1</td>\n",
       "      <td>NaN</td>\n",
       "      <td>0</td>\n",
       "    </tr>\n",
       "  </tbody>\n",
       "</table>\n",
       "<p>5 rows × 28 columns</p>\n",
       "</div>"
      ],
      "text/plain": [
       "   color      director_name  num_critic_for_reviews  duration  \\\n",
       "0  Color      James Cameron                   723.0     178.0   \n",
       "1  Color     Gore Verbinski                   302.0     169.0   \n",
       "2  Color         Sam Mendes                   602.0     148.0   \n",
       "3  Color  Christopher Nolan                   813.0     164.0   \n",
       "4    NaN        Doug Walker                     NaN       NaN   \n",
       "\n",
       "   director_facebook_likes  actor_3_facebook_likes      actor_2_name  \\\n",
       "0                      0.0                   855.0  Joel David Moore   \n",
       "1                    563.0                  1000.0     Orlando Bloom   \n",
       "2                      0.0                   161.0      Rory Kinnear   \n",
       "3                  22000.0                 23000.0    Christian Bale   \n",
       "4                    131.0                     NaN        Rob Walker   \n",
       "\n",
       "   actor_1_facebook_likes        gross                           genres  ...  \\\n",
       "0                  1000.0  760505847.0  Action|Adventure|Fantasy|Sci-Fi  ...   \n",
       "1                 40000.0  309404152.0         Action|Adventure|Fantasy  ...   \n",
       "2                 11000.0  200074175.0        Action|Adventure|Thriller  ...   \n",
       "3                 27000.0  448130642.0                  Action|Thriller  ...   \n",
       "4                   131.0          NaN                      Documentary  ...   \n",
       "\n",
       "  num_user_for_reviews language  country  content_rating       budget  \\\n",
       "0               3054.0  English      USA           PG-13  237000000.0   \n",
       "1               1238.0  English      USA           PG-13  300000000.0   \n",
       "2                994.0  English       UK           PG-13  245000000.0   \n",
       "3               2701.0  English      USA           PG-13  250000000.0   \n",
       "4                  NaN      NaN      NaN             NaN          NaN   \n",
       "\n",
       "   title_year actor_2_facebook_likes imdb_score  aspect_ratio  \\\n",
       "0      2009.0                  936.0        7.9          1.78   \n",
       "1      2007.0                 5000.0        7.1          2.35   \n",
       "2      2015.0                  393.0        6.8          2.35   \n",
       "3      2012.0                23000.0        8.5          2.35   \n",
       "4         NaN                   12.0        7.1           NaN   \n",
       "\n",
       "  movie_facebook_likes  \n",
       "0                33000  \n",
       "1                    0  \n",
       "2                85000  \n",
       "3               164000  \n",
       "4                    0  \n",
       "\n",
       "[5 rows x 28 columns]"
      ]
     },
     "execution_count": 2,
     "metadata": {},
     "output_type": "execute_result"
    }
   ],
   "source": [
    "import pandas as pd\n",
    "\n",
    "# открываем файл датасета\n",
    "df = pd.read_csv(\"movie.csv\")\n",
    "\n",
    "# читаем первые 5 строк чтобы посмотреть глазами о чем данные\n",
    "df.head()"
   ]
  },
  {
   "cell_type": "code",
   "execution_count": 3,
   "id": "b69e6471-2ab7-48d8-babd-c4f70e754e52",
   "metadata": {
    "id": "b69e6471-2ab7-48d8-babd-c4f70e754e52",
    "outputId": "ad895b3a-8d60-4e6f-9b32-6d01520d8a46"
   },
   "outputs": [
    {
     "name": "stdout",
     "output_type": "stream",
     "text": [
      "The shape of data: (4916, 28)\n"
     ]
    }
   ],
   "source": [
    "print(f\"The shape of data: {df.shape}\")"
   ]
  },
  {
   "cell_type": "code",
   "execution_count": 4,
   "id": "d4583b5a-d052-412e-8f41-b4ceab80925e",
   "metadata": {
    "id": "d4583b5a-d052-412e-8f41-b4ceab80925e",
    "outputId": "0b7e1b0d-84ef-49e0-fcdf-a900bdbe534b"
   },
   "outputs": [
    {
     "name": "stdout",
     "output_type": "stream",
     "text": [
      "<class 'pandas.core.frame.DataFrame'>\n",
      "RangeIndex: 4916 entries, 0 to 4915\n",
      "Data columns (total 28 columns):\n",
      " #   Column                     Non-Null Count  Dtype  \n",
      "---  ------                     --------------  -----  \n",
      " 0   color                      4897 non-null   object \n",
      " 1   director_name              4814 non-null   object \n",
      " 2   num_critic_for_reviews     4867 non-null   float64\n",
      " 3   duration                   4901 non-null   float64\n",
      " 4   director_facebook_likes    4814 non-null   float64\n",
      " 5   actor_3_facebook_likes     4893 non-null   float64\n",
      " 6   actor_2_name               4903 non-null   object \n",
      " 7   actor_1_facebook_likes     4909 non-null   float64\n",
      " 8   gross                      4054 non-null   float64\n",
      " 9   genres                     4916 non-null   object \n",
      " 10  actor_1_name               4909 non-null   object \n",
      " 11  movie_title                4916 non-null   object \n",
      " 12  num_voted_users            4916 non-null   int64  \n",
      " 13  cast_total_facebook_likes  4916 non-null   int64  \n",
      " 14  actor_3_name               4893 non-null   object \n",
      " 15  facenumber_in_poster       4903 non-null   float64\n",
      " 16  plot_keywords              4764 non-null   object \n",
      " 17  movie_imdb_link            4916 non-null   object \n",
      " 18  num_user_for_reviews       4895 non-null   float64\n",
      " 19  language                   4902 non-null   object \n",
      " 20  country                    4911 non-null   object \n",
      " 21  content_rating             4616 non-null   object \n",
      " 22  budget                     4432 non-null   float64\n",
      " 23  title_year                 4810 non-null   float64\n",
      " 24  actor_2_facebook_likes     4903 non-null   float64\n",
      " 25  imdb_score                 4916 non-null   float64\n",
      " 26  aspect_ratio               4590 non-null   float64\n",
      " 27  movie_facebook_likes       4916 non-null   int64  \n",
      "dtypes: float64(13), int64(3), object(12)\n",
      "memory usage: 1.1+ MB\n"
     ]
    }
   ],
   "source": [
    "# метод .info() дает нам общую информацию о датасете,\n",
    "# включая типы данных и количество непустых значений для каждого столбца.\n",
    "\n",
    "df.info()"
   ]
  },
  {
   "cell_type": "code",
   "execution_count": 5,
   "id": "3288e30d-e1ee-4be4-a6c1-977799f9452f",
   "metadata": {
    "id": "3288e30d-e1ee-4be4-a6c1-977799f9452f",
    "outputId": "cabc91ac-6d33-4ba8-b79c-028d1c4dc2c0"
   },
   "outputs": [
    {
     "data": {
      "text/html": [
       "<div>\n",
       "<style scoped>\n",
       "    .dataframe tbody tr th:only-of-type {\n",
       "        vertical-align: middle;\n",
       "    }\n",
       "\n",
       "    .dataframe tbody tr th {\n",
       "        vertical-align: top;\n",
       "    }\n",
       "\n",
       "    .dataframe thead th {\n",
       "        text-align: right;\n",
       "    }\n",
       "</style>\n",
       "<table border=\"1\" class=\"dataframe\">\n",
       "  <thead>\n",
       "    <tr style=\"text-align: right;\">\n",
       "      <th></th>\n",
       "      <th>num_critic_for_reviews</th>\n",
       "      <th>duration</th>\n",
       "      <th>director_facebook_likes</th>\n",
       "      <th>actor_3_facebook_likes</th>\n",
       "      <th>actor_1_facebook_likes</th>\n",
       "      <th>gross</th>\n",
       "      <th>num_voted_users</th>\n",
       "      <th>cast_total_facebook_likes</th>\n",
       "      <th>facenumber_in_poster</th>\n",
       "      <th>num_user_for_reviews</th>\n",
       "      <th>budget</th>\n",
       "      <th>title_year</th>\n",
       "      <th>actor_2_facebook_likes</th>\n",
       "      <th>imdb_score</th>\n",
       "      <th>aspect_ratio</th>\n",
       "      <th>movie_facebook_likes</th>\n",
       "    </tr>\n",
       "  </thead>\n",
       "  <tbody>\n",
       "    <tr>\n",
       "      <th>count</th>\n",
       "      <td>4867.000000</td>\n",
       "      <td>4901.000000</td>\n",
       "      <td>4814.000000</td>\n",
       "      <td>4893.000000</td>\n",
       "      <td>4909.000000</td>\n",
       "      <td>4.054000e+03</td>\n",
       "      <td>4.916000e+03</td>\n",
       "      <td>4916.000000</td>\n",
       "      <td>4903.000000</td>\n",
       "      <td>4895.000000</td>\n",
       "      <td>4.432000e+03</td>\n",
       "      <td>4810.000000</td>\n",
       "      <td>4903.000000</td>\n",
       "      <td>4916.000000</td>\n",
       "      <td>4590.000000</td>\n",
       "      <td>4916.000000</td>\n",
       "    </tr>\n",
       "    <tr>\n",
       "      <th>mean</th>\n",
       "      <td>137.988905</td>\n",
       "      <td>107.090798</td>\n",
       "      <td>691.014541</td>\n",
       "      <td>631.276313</td>\n",
       "      <td>6494.488491</td>\n",
       "      <td>4.764451e+07</td>\n",
       "      <td>8.264492e+04</td>\n",
       "      <td>9579.815907</td>\n",
       "      <td>1.377320</td>\n",
       "      <td>267.668846</td>\n",
       "      <td>3.654749e+07</td>\n",
       "      <td>2002.447609</td>\n",
       "      <td>1621.923516</td>\n",
       "      <td>6.437429</td>\n",
       "      <td>2.222349</td>\n",
       "      <td>7348.294142</td>\n",
       "    </tr>\n",
       "    <tr>\n",
       "      <th>std</th>\n",
       "      <td>120.239379</td>\n",
       "      <td>25.286015</td>\n",
       "      <td>2832.954125</td>\n",
       "      <td>1625.874802</td>\n",
       "      <td>15106.986884</td>\n",
       "      <td>6.737255e+07</td>\n",
       "      <td>1.383222e+05</td>\n",
       "      <td>18164.316990</td>\n",
       "      <td>2.023826</td>\n",
       "      <td>372.934839</td>\n",
       "      <td>1.002427e+08</td>\n",
       "      <td>12.453977</td>\n",
       "      <td>4011.299523</td>\n",
       "      <td>1.127802</td>\n",
       "      <td>1.402940</td>\n",
       "      <td>19206.016458</td>\n",
       "    </tr>\n",
       "    <tr>\n",
       "      <th>min</th>\n",
       "      <td>1.000000</td>\n",
       "      <td>7.000000</td>\n",
       "      <td>0.000000</td>\n",
       "      <td>0.000000</td>\n",
       "      <td>0.000000</td>\n",
       "      <td>1.620000e+02</td>\n",
       "      <td>5.000000e+00</td>\n",
       "      <td>0.000000</td>\n",
       "      <td>0.000000</td>\n",
       "      <td>1.000000</td>\n",
       "      <td>2.180000e+02</td>\n",
       "      <td>1916.000000</td>\n",
       "      <td>0.000000</td>\n",
       "      <td>1.600000</td>\n",
       "      <td>1.180000</td>\n",
       "      <td>0.000000</td>\n",
       "    </tr>\n",
       "    <tr>\n",
       "      <th>25%</th>\n",
       "      <td>49.000000</td>\n",
       "      <td>93.000000</td>\n",
       "      <td>7.000000</td>\n",
       "      <td>132.000000</td>\n",
       "      <td>607.000000</td>\n",
       "      <td>5.019656e+06</td>\n",
       "      <td>8.361750e+03</td>\n",
       "      <td>1394.750000</td>\n",
       "      <td>0.000000</td>\n",
       "      <td>64.000000</td>\n",
       "      <td>6.000000e+06</td>\n",
       "      <td>1999.000000</td>\n",
       "      <td>277.000000</td>\n",
       "      <td>5.800000</td>\n",
       "      <td>1.850000</td>\n",
       "      <td>0.000000</td>\n",
       "    </tr>\n",
       "    <tr>\n",
       "      <th>50%</th>\n",
       "      <td>108.000000</td>\n",
       "      <td>103.000000</td>\n",
       "      <td>48.000000</td>\n",
       "      <td>366.000000</td>\n",
       "      <td>982.000000</td>\n",
       "      <td>2.504396e+07</td>\n",
       "      <td>3.313250e+04</td>\n",
       "      <td>3049.000000</td>\n",
       "      <td>1.000000</td>\n",
       "      <td>153.000000</td>\n",
       "      <td>1.985000e+07</td>\n",
       "      <td>2005.000000</td>\n",
       "      <td>593.000000</td>\n",
       "      <td>6.600000</td>\n",
       "      <td>2.350000</td>\n",
       "      <td>159.000000</td>\n",
       "    </tr>\n",
       "    <tr>\n",
       "      <th>75%</th>\n",
       "      <td>191.000000</td>\n",
       "      <td>118.000000</td>\n",
       "      <td>189.750000</td>\n",
       "      <td>633.000000</td>\n",
       "      <td>11000.000000</td>\n",
       "      <td>6.110841e+07</td>\n",
       "      <td>9.377275e+04</td>\n",
       "      <td>13616.750000</td>\n",
       "      <td>2.000000</td>\n",
       "      <td>320.500000</td>\n",
       "      <td>4.300000e+07</td>\n",
       "      <td>2011.000000</td>\n",
       "      <td>912.000000</td>\n",
       "      <td>7.200000</td>\n",
       "      <td>2.350000</td>\n",
       "      <td>2000.000000</td>\n",
       "    </tr>\n",
       "    <tr>\n",
       "      <th>max</th>\n",
       "      <td>813.000000</td>\n",
       "      <td>511.000000</td>\n",
       "      <td>23000.000000</td>\n",
       "      <td>23000.000000</td>\n",
       "      <td>640000.000000</td>\n",
       "      <td>7.605058e+08</td>\n",
       "      <td>1.689764e+06</td>\n",
       "      <td>656730.000000</td>\n",
       "      <td>43.000000</td>\n",
       "      <td>5060.000000</td>\n",
       "      <td>4.200000e+09</td>\n",
       "      <td>2016.000000</td>\n",
       "      <td>137000.000000</td>\n",
       "      <td>9.500000</td>\n",
       "      <td>16.000000</td>\n",
       "      <td>349000.000000</td>\n",
       "    </tr>\n",
       "  </tbody>\n",
       "</table>\n",
       "</div>"
      ],
      "text/plain": [
       "       num_critic_for_reviews     duration  director_facebook_likes  \\\n",
       "count             4867.000000  4901.000000              4814.000000   \n",
       "mean               137.988905   107.090798               691.014541   \n",
       "std                120.239379    25.286015              2832.954125   \n",
       "min                  1.000000     7.000000                 0.000000   \n",
       "25%                 49.000000    93.000000                 7.000000   \n",
       "50%                108.000000   103.000000                48.000000   \n",
       "75%                191.000000   118.000000               189.750000   \n",
       "max                813.000000   511.000000             23000.000000   \n",
       "\n",
       "       actor_3_facebook_likes  actor_1_facebook_likes         gross  \\\n",
       "count             4893.000000             4909.000000  4.054000e+03   \n",
       "mean               631.276313             6494.488491  4.764451e+07   \n",
       "std               1625.874802            15106.986884  6.737255e+07   \n",
       "min                  0.000000                0.000000  1.620000e+02   \n",
       "25%                132.000000              607.000000  5.019656e+06   \n",
       "50%                366.000000              982.000000  2.504396e+07   \n",
       "75%                633.000000            11000.000000  6.110841e+07   \n",
       "max              23000.000000           640000.000000  7.605058e+08   \n",
       "\n",
       "       num_voted_users  cast_total_facebook_likes  facenumber_in_poster  \\\n",
       "count     4.916000e+03                4916.000000           4903.000000   \n",
       "mean      8.264492e+04                9579.815907              1.377320   \n",
       "std       1.383222e+05               18164.316990              2.023826   \n",
       "min       5.000000e+00                   0.000000              0.000000   \n",
       "25%       8.361750e+03                1394.750000              0.000000   \n",
       "50%       3.313250e+04                3049.000000              1.000000   \n",
       "75%       9.377275e+04               13616.750000              2.000000   \n",
       "max       1.689764e+06              656730.000000             43.000000   \n",
       "\n",
       "       num_user_for_reviews        budget   title_year  \\\n",
       "count           4895.000000  4.432000e+03  4810.000000   \n",
       "mean             267.668846  3.654749e+07  2002.447609   \n",
       "std              372.934839  1.002427e+08    12.453977   \n",
       "min                1.000000  2.180000e+02  1916.000000   \n",
       "25%               64.000000  6.000000e+06  1999.000000   \n",
       "50%              153.000000  1.985000e+07  2005.000000   \n",
       "75%              320.500000  4.300000e+07  2011.000000   \n",
       "max             5060.000000  4.200000e+09  2016.000000   \n",
       "\n",
       "       actor_2_facebook_likes   imdb_score  aspect_ratio  movie_facebook_likes  \n",
       "count             4903.000000  4916.000000   4590.000000           4916.000000  \n",
       "mean              1621.923516     6.437429      2.222349           7348.294142  \n",
       "std               4011.299523     1.127802      1.402940          19206.016458  \n",
       "min                  0.000000     1.600000      1.180000              0.000000  \n",
       "25%                277.000000     5.800000      1.850000              0.000000  \n",
       "50%                593.000000     6.600000      2.350000            159.000000  \n",
       "75%                912.000000     7.200000      2.350000           2000.000000  \n",
       "max             137000.000000     9.500000     16.000000         349000.000000  "
      ]
     },
     "execution_count": 5,
     "metadata": {},
     "output_type": "execute_result"
    }
   ],
   "source": [
    "# метод describe() предоставляет основные статистические данные о числовых столбца\n",
    "# включая количество, среднее значение, стандартное отклонение, минимальное и максимальное значения,\n",
    "# а также значения квартилей.\n",
    "\n",
    "df.describe()"
   ]
  },
  {
   "cell_type": "markdown",
   "id": "01ec37d6-55f6-4185-8a57-fe0cf3bcfbeb",
   "metadata": {
    "id": "01ec37d6-55f6-4185-8a57-fe0cf3bcfbeb"
   },
   "source": [
    "### Чистка данных, фильтрация"
   ]
  },
  {
   "cell_type": "code",
   "execution_count": 6,
   "id": "0c3aae6c-16f4-457a-b303-0ce3195f70d5",
   "metadata": {
    "id": "0c3aae6c-16f4-457a-b303-0ce3195f70d5",
    "outputId": "3c1f3db2-1482-4605-92b1-24057531dc8c"
   },
   "outputs": [
    {
     "data": {
      "text/plain": [
       "color                         19\n",
       "director_name                102\n",
       "num_critic_for_reviews        49\n",
       "duration                      15\n",
       "director_facebook_likes      102\n",
       "actor_3_facebook_likes        23\n",
       "actor_2_name                  13\n",
       "actor_1_facebook_likes         7\n",
       "gross                        862\n",
       "genres                         0\n",
       "actor_1_name                   7\n",
       "movie_title                    0\n",
       "num_voted_users                0\n",
       "cast_total_facebook_likes      0\n",
       "actor_3_name                  23\n",
       "facenumber_in_poster          13\n",
       "plot_keywords                152\n",
       "movie_imdb_link                0\n",
       "num_user_for_reviews          21\n",
       "language                      14\n",
       "country                        5\n",
       "content_rating               300\n",
       "budget                       484\n",
       "title_year                   106\n",
       "actor_2_facebook_likes        13\n",
       "imdb_score                     0\n",
       "aspect_ratio                 326\n",
       "movie_facebook_likes           0\n",
       "dtype: int64"
      ]
     },
     "execution_count": 6,
     "metadata": {},
     "output_type": "execute_result"
    }
   ],
   "source": [
    "df.isna().sum()"
   ]
  },
  {
   "cell_type": "code",
   "execution_count": null,
   "id": "3aaa8863-95d5-4b4b-be59-63ee292ed4bd",
   "metadata": {
    "id": "3aaa8863-95d5-4b4b-be59-63ee292ed4bd"
   },
   "outputs": [],
   "source": [
    "# Выберем только нужные колонки\n",
    "df_clean = df[[\n",
    "    \"color\", \"director_name\", \"duration\", \"gross\", \"genres\", \"country\", \"budget\", \"imdb_score\",\n",
    "    \"actor_1_name\", \"title_year\", \"movie_title\"\n",
    "]]\n",
    "\n",
    "# чтобы иметь возможность менять df_clean не меняя оригинальный df - нужно создать копию\n",
    "# по умолчанию выбор колонок df[[col1, col2, ...]] не создает копию,\n",
    "# а всего лишь позволяет удобно смотреть только на часть оригинальных данных\n",
    "df_clean = df_clean.copy()"
   ]
  },
  {
   "cell_type": "code",
   "execution_count": null,
   "id": "04325d61-e6ec-4b28-b374-da9687a17834",
   "metadata": {
    "id": "04325d61-e6ec-4b28-b374-da9687a17834",
    "outputId": "02590f32-4b9d-4558-e1fb-3f5fcb598941"
   },
   "outputs": [],
   "source": [
    "# Что за колонка \"color\"? Вызовем .value_counts() чтобы посмотреть какие вообще бывают значения у колонки\n",
    "df_clean.color.value_counts()"
   ]
  },
  {
   "cell_type": "code",
   "execution_count": null,
   "id": "72c05e1a-7ec1-4e20-96a7-78a8df7afec4",
   "metadata": {
    "id": "72c05e1a-7ec1-4e20-96a7-78a8df7afec4",
    "outputId": "261a630f-290e-4909-eb33-9570148a9fea"
   },
   "outputs": [],
   "source": [
    "print(f\"Before .dropna(): {df_clean.shape}\")\n",
    "\n",
    "# Выбросим строчки с отсутствующими значениями\n",
    "df_clean = df_clean.dropna()\n",
    "print(f\"Before .dropna(): {df_clean.shape}\")"
   ]
  },
  {
   "cell_type": "code",
   "execution_count": null,
   "id": "a6093773-b880-43d7-ab7b-3b341e5be559",
   "metadata": {
    "id": "a6093773-b880-43d7-ab7b-3b341e5be559",
    "outputId": "5d44d8d8-5024-4c68-c64d-0afd23857397"
   },
   "outputs": [],
   "source": [
    "# оставим только цветные фильмы\n",
    "df_clean = df_clean[df_clean.color == \"Color\"]\n",
    "df_clean.shape"
   ]
  },
  {
   "cell_type": "code",
   "execution_count": null,
   "id": "8ee8c4b2-635d-4999-a2aa-08ef71812faf",
   "metadata": {
    "id": "8ee8c4b2-635d-4999-a2aa-08ef71812faf",
    "outputId": "45169790-0470-44f7-bdc1-9638adb89f51"
   },
   "outputs": [],
   "source": [
    "# напечатаем случайные 5 строк\n",
    "df_clean.sample(5)"
   ]
  },
  {
   "cell_type": "markdown",
   "id": "55424272-3528-469a-ac3d-f820041a7fe1",
   "metadata": {
    "id": "55424272-3528-469a-ac3d-f820041a7fe1"
   },
   "source": [
    "### Анализ данных: value_counts"
   ]
  },
  {
   "cell_type": "code",
   "execution_count": null,
   "id": "78fc545b-5f56-4d47-ab35-5903440a5227",
   "metadata": {
    "id": "78fc545b-5f56-4d47-ab35-5903440a5227",
    "outputId": "4a21fa22-04d7-460c-e9da-9bb1c5ccde85"
   },
   "outputs": [],
   "source": [
    "# посмотрим топ-10 популярных актеров\n",
    "actor_counts = df_clean[\"actor_1_name\"].value_counts()\n",
    "actor_counts.head(10)"
   ]
  },
  {
   "cell_type": "code",
   "execution_count": null,
   "id": "fdec7946-ec9f-4fc6-a84d-0fc7eca00ec6",
   "metadata": {
    "id": "fdec7946-ec9f-4fc6-a84d-0fc7eca00ec6",
    "outputId": "c761f800-a1bb-44d5-b62e-3acd2fc8827c"
   },
   "outputs": [],
   "source": [
    "# посмотрим на количество фильмов по годам\n",
    "df_clean['title_year'].value_counts().sort_index().plot(kind='bar', figsize=(15, 5))"
   ]
  },
  {
   "cell_type": "markdown",
   "id": "3d5fe66c-828a-42d2-9e6f-f45bacc23623",
   "metadata": {
    "id": "3d5fe66c-828a-42d2-9e6f-f45bacc23623"
   },
   "source": [
    "### Анализ данных: groupby"
   ]
  },
  {
   "cell_type": "code",
   "execution_count": null,
   "id": "cf1c3f5d-7d6a-4826-9a07-43a48ea893b0",
   "metadata": {
    "id": "cf1c3f5d-7d6a-4826-9a07-43a48ea893b0",
    "outputId": "a6c96815-3ea0-4f8d-ac88-2f5872e593d3"
   },
   "outputs": [],
   "source": [
    "# посчитаем средние продажи на фильм по странам\n",
    "budget_by_country = df_clean.groupby(\"country\")[\"gross\"].mean()\n",
    "\n",
    "# сортируем по убыванию среднего значения и выводим топ-10\n",
    "budget_by_country.sort_values(ascending=False)[:10]"
   ]
  },
  {
   "cell_type": "code",
   "execution_count": null,
   "id": "49a00a41-6a46-498a-a476-660da0cba5da",
   "metadata": {
    "id": "49a00a41-6a46-498a-a476-660da0cba5da",
    "outputId": "cd7172ca-9254-4368-d962-a2f21c2038ff"
   },
   "outputs": [],
   "source": [
    "# группируем по году + стране и считаем средний рейтинг\n",
    "grouped_data = df_clean.groupby(['title_year', 'country'])[\"imdb_score\"].mean()\n",
    "\n",
    "# вычисляем страну с наибольшим средним рейтингом для каждого года\n",
    "top_country_each_year = grouped_data.groupby('title_year').apply(lambda x: x.idxmax()[1])\n",
    "\n",
    "# печатаем\n",
    "print(top_country_each_year)"
   ]
  },
  {
   "cell_type": "code",
   "execution_count": null,
   "id": "529d5a75-bd2b-4ca5-a300-13cadba0f936",
   "metadata": {
    "id": "529d5a75-bd2b-4ca5-a300-13cadba0f936",
    "outputId": "6b703601-2609-456f-dcab-43e98240f547"
   },
   "outputs": [],
   "source": [
    "top_country_each_year.iloc[-20:]"
   ]
  },
  {
   "cell_type": "markdown",
   "id": "0921193c-70f4-4ae7-868e-605854824dee",
   "metadata": {
    "id": "0921193c-70f4-4ae7-868e-605854824dee"
   },
   "source": [
    "### Визуализация"
   ]
  },
  {
   "cell_type": "code",
   "execution_count": null,
   "id": "934e004e-a6fc-4479-9bae-0920538b23eb",
   "metadata": {
    "id": "934e004e-a6fc-4479-9bae-0920538b23eb"
   },
   "outputs": [],
   "source": [
    "# импортируем библиотеку matplotlib.pyplot под часто используемым псевдонимом\n",
    "import matplotlib.pyplot as plt"
   ]
  },
  {
   "cell_type": "code",
   "execution_count": null,
   "id": "200440cf-5af1-488f-a147-1c7bd94018e5",
   "metadata": {
    "id": "200440cf-5af1-488f-a147-1c7bd94018e5",
    "outputId": "5d324805-5e75-45c6-e329-519d08acd040"
   },
   "outputs": [],
   "source": [
    "# проверим насколько визуально видна связь между рейтингом фильма и кассовыми сборами\n",
    "plt.scatter(df_clean[\"imdb_score\"], df_clean[\"gross\"])\n",
    "plt.ylabel(\"Gross\")\n",
    "plt.xlabel(\"IMDB Score\")\n",
    "plt.show()"
   ]
  },
  {
   "cell_type": "code",
   "execution_count": null,
   "id": "3605f32a-7f8b-42eb-b215-13edf3e96520",
   "metadata": {
    "id": "3605f32a-7f8b-42eb-b215-13edf3e96520",
    "outputId": "35b1daea-13b0-4348-8179-a69bf393c8fa"
   },
   "outputs": [],
   "source": [
    "df_clean.sort_values(\"gross\", ascending=False).head()"
   ]
  },
  {
   "cell_type": "code",
   "execution_count": null,
   "id": "55513a22-36db-423e-9c88-0d57ce7aa7b8",
   "metadata": {
    "id": "55513a22-36db-423e-9c88-0d57ce7aa7b8",
    "outputId": "bf6aae44-f478-48bd-8a8e-7e08a244d2c7"
   },
   "outputs": [],
   "source": [
    "# посчитаем средние кассовые сборы для каждого рейтинга\n",
    "\n",
    "# сначала создадим дополнительную колонку - округленный рейтинг\n",
    "df_clean[\"imdb_score_rounded\"] = df_clean[\"imdb_score\"].round()\n",
    "\n",
    "df_clean[[\"imdb_score\", \"imdb_score_rounded\"]].sample(5)"
   ]
  },
  {
   "cell_type": "code",
   "execution_count": null,
   "id": "3a2db863-5fb5-4728-9f89-60b459c1b73d",
   "metadata": {
    "id": "3a2db863-5fb5-4728-9f89-60b459c1b73d",
    "outputId": "71c17db8-7ea7-4265-a946-43790b46c203"
   },
   "outputs": [],
   "source": [
    "# посчитаем средние кассовые сборы для каждого округленного рейтинга\n",
    "avg_gross_by_rating = df_clean.groupby(\"imdb_score_rounded\")[\"gross\"].mean()\n",
    "avg_gross_by_rating"
   ]
  },
  {
   "cell_type": "code",
   "execution_count": null,
   "id": "e1bff1b9-5f8a-4758-b8b9-49de8f18150a",
   "metadata": {
    "id": "e1bff1b9-5f8a-4758-b8b9-49de8f18150a"
   },
   "outputs": [],
   "source": [
    "# джойним данные\n",
    "# добавляем в датасет новую колонку, значение которой зависит от значения\n",
    "# в уже существующей колонке imdb_score_rounded\n",
    "df_clean = df_clean.join(avg_gross_by_rating, on=\"imdb_score_rounded\", rsuffix=\"_avg_for_rating\")"
   ]
  },
  {
   "cell_type": "code",
   "execution_count": null,
   "id": "4176edeb-f15d-4d12-a62d-94f90caaff4b",
   "metadata": {
    "id": "4176edeb-f15d-4d12-a62d-94f90caaff4b"
   },
   "outputs": [],
   "source": [
    "# считаем насколько фильм превзошел \"ожидаемые\" кассовые сборы\n",
    "df_clean[\"gross_factor\"] = df_clean[\"gross\"] / df_clean[\"gross_avg_for_rating\"]"
   ]
  },
  {
   "cell_type": "code",
   "execution_count": null,
   "id": "9c0912b0-0832-4ccb-9450-7a7bb6d7e930",
   "metadata": {
    "id": "9c0912b0-0832-4ccb-9450-7a7bb6d7e930",
    "outputId": "e0dace5c-f4d0-4744-bf1e-3c74e1cdc5d0"
   },
   "outputs": [],
   "source": [
    "df_clean.sort_values(\"gross_factor\", ascending=False).head(10)"
   ]
  },
  {
   "cell_type": "code",
   "execution_count": null,
   "id": "540aa528-8346-4a9c-a3fe-c29fd4e2273d",
   "metadata": {
    "id": "540aa528-8346-4a9c-a3fe-c29fd4e2273d",
    "outputId": "7f0b0787-411a-4997-d17a-aacc9e3bd76c"
   },
   "outputs": [],
   "source": [
    "df_clean.sort_values(\"gross_factor\", ascending=True).head(10)"
   ]
  },
  {
   "cell_type": "code",
   "execution_count": null,
   "id": "9e6b22ea-64e2-4c39-a8a4-a4a7b4148d74",
   "metadata": {
    "id": "9e6b22ea-64e2-4c39-a8a4-a4a7b4148d74",
    "outputId": "f3ce9d11-28bb-4fd9-f5d6-fb11bfb6aa5f"
   },
   "outputs": [],
   "source": [
    "df_clean[df_clean.imdb_score_rounded >= 8].sort_values(\"gross_factor\", ascending=True).head(10)"
   ]
  },
  {
   "cell_type": "markdown",
   "id": "54c15ba3-e509-4e52-8293-8d6ac5a3bbee",
   "metadata": {
    "id": "54c15ba3-e509-4e52-8293-8d6ac5a3bbee"
   },
   "source": [
    "# Домашнее задание"
   ]
  },
  {
   "cell_type": "markdown",
   "id": "9fbeea94-250d-4c58-bc42-230d5fd36c75",
   "metadata": {
    "id": "9fbeea94-250d-4c58-bc42-230d5fd36c75"
   },
   "source": [
    "Для выполнения домашнего задания нужно использовать оригинальный датасет `df`:\n",
    "- без фильтраций\n",
    "- без выкидания строк с отсутствующими значениями"
   ]
  },
  {
   "cell_type": "markdown",
   "id": "8a385fc9-22e5-465e-8bc9-3d42f6f75493",
   "metadata": {
    "id": "8a385fc9-22e5-465e-8bc9-3d42f6f75493"
   },
   "source": [
    "Вопрос 1: сколько фильмов выпустила Франция в 2010 году?"
   ]
  },
  {
   "cell_type": "code",
   "execution_count": null,
   "id": "b2fd7233-e579-46b3-99a8-63e0f3a7e78b",
   "metadata": {
    "id": "b2fd7233-e579-46b3-99a8-63e0f3a7e78b",
    "outputId": "ced74eb8-b6a6-4dea-c523-2575e9134ddd"
   },
   "outputs": [],
   "source": [
    "# ваш код здесь\n",
    "df[(df.country == \"France\") & (df.title_year == 2010)]"
   ]
  },
  {
   "cell_type": "code",
   "execution_count": null,
   "id": "4a906db1-0212-4e5e-b8e7-574eb3818117",
   "metadata": {
    "colab": {
     "base_uri": "https://localhost:8080/",
     "height": 390
    },
    "executionInfo": {
     "elapsed": 685,
     "status": "error",
     "timestamp": 1695102306544,
     "user": {
      "displayName": "productstar homework",
      "userId": "17463514396133947951"
     },
     "user_tz": -180
    },
    "id": "4a906db1-0212-4e5e-b8e7-574eb3818117",
    "outputId": "4052e0d3-2ca0-4e17-c464-25a0f541d3c7"
   },
   "outputs": [],
   "source": [
    "import pandas as pd\n",
    "\n",
    "df = pd.read_csv(\"vgsales.csv\")\n",
    "\n",
    "# 1 task\n",
    "\n",
    "unique_games = len(df[\"Name\"].unique())\n",
    "\n",
    "print(f'Dataframe has {unique_games} unique games')\n",
    "print()"
   ]
  }
 ],
 "metadata": {
  "colab": {
   "provenance": []
  },
  "kernelspec": {
   "display_name": "Python 3 (ipykernel)",
   "language": "python",
   "name": "python3"
  },
  "language_info": {
   "codemirror_mode": {
    "name": "ipython",
    "version": 3
   },
   "file_extension": ".py",
   "mimetype": "text/x-python",
   "name": "python",
   "nbconvert_exporter": "python",
   "pygments_lexer": "ipython3",
   "version": "3.12.4"
  }
 },
 "nbformat": 4,
 "nbformat_minor": 5
}
