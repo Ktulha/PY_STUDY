{
 "cells": [
  {
   "cell_type": "code",
   "execution_count": 1,
   "id": "e0e89567-12bf-4c7b-bcdc-6764b28dd096",
   "metadata": {},
   "outputs": [],
   "source": [
    "import lorem"
   ]
  },
  {
   "cell_type": "code",
   "execution_count": 17,
   "id": "8ccf1563-87e8-4f5c-a2a7-69214d7f34e2",
   "metadata": {},
   "outputs": [
    {
     "name": "stdout",
     "output_type": "stream",
     "text": [
      "('Consectetur non dolor porro. Porro consectetur sit consectetur. Etincidunt tempora modi dolore aliquam. Magnam modi aliquam voluptatem tempora sit. Eius porro dolore adipisci. Etincidunt ipsum eius aliquam numquam eius. Porro ut neque magnam sed velit dolor numquam.') ,\n",
      "('Sed dolorem velit adipisci tempora adipisci eius consectetur. Porro ut eius aliquam tempora quisquam voluptatem amet. Neque labore est voluptatem tempora amet. Amet eius non non quaerat amet neque dolor. Porro etincidunt amet aliquam est dolorem. Dolorem dolore neque tempora numquam adipisci tempora consectetur. Dolorem voluptatem quiquia sed quaerat. Modi voluptatem aliquam adipisci. Sed ut consectetur numquam ut dolor.') ,\n",
      "('Sit ipsum sit modi neque amet. Quiquia sit amet sit velit dolorem. Quaerat quisquam porro est velit ipsum. Tempora quiquia neque adipisci. Adipisci dolorem labore eius. Dolor quiquia quiquia adipisci sed quisquam voluptatem. Ipsum etincidunt dolor eius magnam.') ,\n",
      "('Porro dolorem quisquam dolor amet labore. Adipisci neque neque sit. Ut quisquam voluptatem etincidunt dolorem. Neque consectetur quaerat consectetur. Dolor dolorem voluptatem quisquam non adipisci. Porro dolor ut adipisci quisquam velit dolorem velit.') ,\n",
      "('Sit amet dolorem dolore. Dolore sit dolorem dolore. Voluptatem neque neque ut sed. Modi quisquam voluptatem velit. Velit consectetur modi ipsum aliquam velit adipisci velit. Quiquia modi dolore amet est quaerat ipsum ipsum.') ,\n",
      "('Non est dolor numquam velit quisquam ipsum quiquia. Numquam magnam quiquia porro. Neque magnam voluptatem dolorem aliquam voluptatem. Voluptatem ipsum numquam dolor ut. Amet numquam quaerat non. Voluptatem sed sed sit adipisci. Quiquia sed sit numquam consectetur. Aliquam consectetur ut labore non tempora velit tempora. Ut adipisci porro ut quiquia. Amet aliquam ipsum modi.') ,\n",
      "('Neque dolore etincidunt dolore. Aliquam voluptatem labore consectetur consectetur labore magnam non. Dolorem magnam adipisci consectetur dolore est modi non. Porro numquam adipisci tempora. Magnam dolore tempora labore labore sit. Est dolore eius ut dolor. Non consectetur velit tempora dolore quaerat eius.') ,\n",
      "('Adipisci dolor aliquam amet quaerat numquam numquam sit. Magnam adipisci non voluptatem sed eius quisquam. Dolore porro ipsum ipsum quiquia modi numquam dolore. Dolore quiquia quisquam numquam eius labore. Magnam ipsum modi adipisci.') ,\n",
      "('Quaerat dolor consectetur neque tempora. Modi voluptatem voluptatem tempora est dolor sit. Velit etincidunt etincidunt quiquia velit. Ipsum ipsum ut velit numquam velit consectetur ipsum. Ut quaerat amet dolore quiquia quaerat ipsum non. Dolor neque porro dolor dolore sed etincidunt voluptatem. Velit velit quaerat numquam quiquia velit. Sed adipisci ut tempora eius quisquam.') ,\n",
      "('Velit consectetur magnam porro velit dolor. Ipsum quisquam voluptatem dolorem sed ipsum. Sed dolor porro ut. Est quisquam tempora dolor quiquia etincidunt modi. Dolore non ut eius. Dolor porro tempora voluptatem. Etincidunt neque ut dolorem. Numquam ipsum non modi magnam.') ,\n",
      "('Non tempora eius non ut etincidunt. Ut dolore etincidunt quisquam dolor. Quaerat porro dolore est dolorem eius. Est tempora adipisci numquam dolorem ut non dolorem. Sit voluptatem ipsum dolorem modi. Quisquam sed magnam non sed eius magnam. Eius aliquam tempora voluptatem magnam porro dolorem. Porro eius quisquam consectetur aliquam labore consectetur. Est etincidunt quaerat quisquam.') ,\n",
      "('Aliquam numquam non amet ut. Quaerat est quiquia numquam velit ipsum dolore. Ut sit dolorem adipisci dolorem quiquia. Sed quisquam dolore velit numquam. Ut tempora ipsum adipisci non porro sit. Labore etincidunt porro sed voluptatem quaerat.') ,\n",
      "('Dolorem labore dolor porro porro ut. Dolorem etincidunt ut neque. Magnam quiquia quiquia sed neque quisquam. Voluptatem non quaerat magnam voluptatem sed dolore. Sed dolore velit est magnam quisquam.') ,\n",
      "('Quaerat consectetur sed numquam numquam voluptatem quiquia. Dolor eius velit quaerat labore quaerat sed porro. Consectetur dolor est tempora velit. Quisquam amet porro modi aliquam dolore tempora sit. Labore amet neque aliquam. Dolor quiquia sit dolor tempora. Ut magnam sit sed quaerat quiquia numquam. Magnam quaerat dolorem etincidunt ipsum eius. Magnam consectetur amet sed. Amet quaerat ipsum numquam ipsum ut.') ,\n"
     ]
    }
   ],
   "source": [
    "for i in range(1,15):\n",
    "   print('(\\''+ lorem.paragraph() + '\\')',',')"
   ]
  },
  {
   "cell_type": "code",
   "execution_count": null,
   "id": "721904f3-fc46-4572-ad0d-09ca4355fd7d",
   "metadata": {},
   "outputs": [],
   "source": []
  }
 ],
 "metadata": {
  "kernelspec": {
   "display_name": "Python 3 (ipykernel)",
   "language": "python",
   "name": "python3"
  },
  "language_info": {
   "codemirror_mode": {
    "name": "ipython",
    "version": 3
   },
   "file_extension": ".py",
   "mimetype": "text/x-python",
   "name": "python",
   "nbconvert_exporter": "python",
   "pygments_lexer": "ipython3",
   "version": "3.12.4"
  }
 },
 "nbformat": 4,
 "nbformat_minor": 5
}
