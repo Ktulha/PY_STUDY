{
 "cells": [
  {
   "cell_type": "code",
   "execution_count": 25,
   "id": "d62df01d-5241-4ba1-96bf-ffd26a63411c",
   "metadata": {},
   "outputs": [],
   "source": []
  },
  {
   "cell_type": "code",
   "execution_count": 2,
   "id": "1f1026b4-6d58-49bb-b437-e5b113de71a8",
   "metadata": {},
   "outputs": [],
   "source": [
    "keys=['name','age','gender']"
   ]
  },
  {
   "cell_type": "code",
   "execution_count": 14,
   "id": "6860c394-e4aa-4c6f-b3ff-543bffe2b1be",
   "metadata": {},
   "outputs": [],
   "source": [
    "s_list=[dict(zip(keys,['name_{0}'.format(i),i+15,i%2==0])) for i in range(4)]"
   ]
  },
  {
   "cell_type": "code",
   "execution_count": 15,
   "id": "b4b8c60b-72d0-415f-a331-db54fe16114e",
   "metadata": {},
   "outputs": [
    {
     "data": {
      "text/plain": [
       "[{'name': 'name_0', 'age': 15, 'gender': True},\n",
       " {'name': 'name_1', 'age': 16, 'gender': False},\n",
       " {'name': 'name_2', 'age': 17, 'gender': True},\n",
       " {'name': 'name_3', 'age': 18, 'gender': False}]"
      ]
     },
     "execution_count": 15,
     "metadata": {},
     "output_type": "execute_result"
    }
   ],
   "source": [
    "s_list"
   ]
  },
  {
   "cell_type": "code",
   "execution_count": 29,
   "id": "eca9a05a-ed4d-4c93-b0f2-d61397eea2d1",
   "metadata": {},
   "outputs": [],
   "source": [
    "def get_avg_age(m_list:list,gender:bool):\n",
    "    l=len([itm for itm in m_list if itm['gender']==gender])\n",
    "    return sum(itm['age'] for itm in m_list if itm['gender']==gender)/l"
   ]
  },
  {
   "cell_type": "code",
   "execution_count": 30,
   "id": "ec5eecb4-1b5e-46e9-9376-4a9f6c5b533d",
   "metadata": {},
   "outputs": [
    {
     "data": {
      "text/plain": [
       "16.0"
      ]
     },
     "execution_count": 30,
     "metadata": {},
     "output_type": "execute_result"
    }
   ],
   "source": [
    "get_avg_age (s_list,True)"
   ]
  },
  {
   "cell_type": "code",
   "execution_count": null,
   "id": "cfda639f-f95c-4316-b1c8-aae2f0c4e756",
   "metadata": {},
   "outputs": [],
   "source": []
  }
 ],
 "metadata": {
  "kernelspec": {
   "display_name": "Python 3 (ipykernel)",
   "language": "python",
   "name": "python3"
  },
  "language_info": {
   "codemirror_mode": {
    "name": "ipython",
    "version": 3
   },
   "file_extension": ".py",
   "mimetype": "text/x-python",
   "name": "python",
   "nbconvert_exporter": "python",
   "pygments_lexer": "ipython3",
   "version": "3.12.4"
  }
 },
 "nbformat": 4,
 "nbformat_minor": 5
}
