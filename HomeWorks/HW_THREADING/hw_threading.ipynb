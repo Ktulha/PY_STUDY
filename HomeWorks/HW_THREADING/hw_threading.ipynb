{
 "cells": [
  {
   "cell_type": "code",
   "execution_count": 49,
   "metadata": {},
   "outputs": [],
   "source": [
    "import threading\n",
    "import time\n"
   ]
  },
  {
   "cell_type": "markdown",
   "metadata": {},
   "source": [
    "## Тестирование многопоточности\n",
    "\n",
    "### класс `TestMultiThreading`:\n",
    "\n",
    "#### переменные:\n",
    "\n",
    "`timeout` - время ожидания потока *(по умолчанию 5 секунд)*\n",
    "\n",
    "`slots` - количество параллельных потоков *(по умолчанию 2 потока)*\n",
    "\n",
    "#### методы:\n",
    "\n",
    "`new_queue_item` - работа потока\n",
    "\n",
    "`items_iterator` - создание и запуск потоков\n"
   ]
  },
  {
   "cell_type": "code",
   "execution_count": 50,
   "metadata": {},
   "outputs": [],
   "source": [
    "class TestMultiThreading:\n",
    "  def __init__(self,timeout=5,slots=2):\n",
    "    self.queue = threading.Semaphore(value=slots)\n",
    "    self.timeout = timeout\n",
    "  \n",
    "  def new_queue_item(self,item):\n",
    "    print(f'New queue item : {item}')\n",
    "    self.queue.acquire()\n",
    "    time_0=time.time()\n",
    "    print(f'Do somethimg for {self.timeout} ticks with item {item}')\n",
    "    for t in range(self.timeout):\n",
    "      print(f'  Item {item} --- Time left: {self.timeout-t} ---\\n')\n",
    "      time.sleep(1)\n",
    "    print(f'Item {item} done in {time.time()-time_0} sec \\n')\n",
    "    self.queue.release()\n",
    "    \n",
    "  \n",
    "  def items_iterator(self,count):\n",
    "    for item in range(1,count+1):\n",
    "      item_thread=threading.Thread(target=self.new_queue_item,args=[item])\n",
    "      item_thread.start()\n",
    "    \n",
    "  "
   ]
  },
  {
   "cell_type": "code",
   "execution_count": 51,
   "metadata": {},
   "outputs": [],
   "source": [
    "def test_threading(count):\n",
    "  items=TestMultiThreading()\n",
    "  items.items_iterator(count=count)"
   ]
  },
  {
   "cell_type": "code",
   "execution_count": 52,
   "metadata": {},
   "outputs": [
    {
     "name": "stdout",
     "output_type": "stream",
     "text": [
      "New queue item : 1\n",
      "Do somethimg for 5 ticks with item 1\n",
      "  Item 1 --- Time left: 5 ---\n",
      "\n",
      "New queue item : 2\n",
      "Do somethimg for 5 ticks with item 2\n",
      "  Item 2 --- Time left: 5 ---\n",
      "\n",
      "New queue item : 3\n",
      "New queue item : 4\n",
      "New queue item : 5\n",
      "New queue item : 6\n"
     ]
    },
    {
     "name": "stdout",
     "output_type": "stream",
     "text": [
      "  Item 1 --- Time left: 4 ---\n",
      "\n",
      "  Item 2 --- Time left: 4 ---\n",
      "\n",
      "  Item 1 --- Time left: 3 ---\n",
      "\n",
      "  Item 2 --- Time left: 3 ---\n",
      "\n",
      "  Item 1 --- Time left: 2 ---\n",
      "\n",
      "  Item 2 --- Time left: 2 ---\n",
      "\n",
      "  Item 1 --- Time left: 1 ---\n",
      "\n",
      "  Item 2 --- Time left: 1 ---\n",
      "\n",
      "Item 1 done in 5.005128622055054 sec \n",
      "\n",
      "Do somethimg for 5 ticks with item 3\n",
      "  Item 3 --- Time left: 5 ---\n",
      "\n",
      "Item 2 done in 5.00414776802063 sec \n",
      "\n",
      "Do somethimg for 5 ticks with item 4\n",
      "  Item 4 --- Time left: 5 ---\n",
      "\n",
      "  Item 3 --- Time left: 4 ---\n",
      "  Item 4 --- Time left: 4 ---\n",
      "\n",
      "\n",
      "  Item 4 --- Time left: 3 ---\n",
      "  Item 3 --- Time left: 3 ---\n",
      "\n",
      "\n",
      "  Item 3 --- Time left: 2 ---\n",
      "  Item 4 --- Time left: 2 ---\n",
      "\n",
      "\n",
      "  Item 4 --- Time left: 1 ---\n",
      "  Item 3 --- Time left: 1 ---\n",
      "\n",
      "\n",
      "Item 4 done in 5.0112879276275635 sec \n",
      "Item 3 done in 5.0153045654296875 sec \n",
      "\n",
      "\n",
      "Do somethimg for 5 ticks with item 6\n",
      "  Item 6 --- Time left: 5 ---\n",
      "\n",
      "Do somethimg for 5 ticks with item 5\n",
      "  Item 5 --- Time left: 5 ---\n",
      "\n",
      "  Item 6 --- Time left: 4 ---\n",
      "\n",
      "  Item 5 --- Time left: 4 ---\n",
      "\n",
      "  Item 6 --- Time left: 3 ---\n",
      "\n",
      "  Item 5 --- Time left: 3 ---\n",
      "\n",
      "  Item 6 --- Time left: 2 ---\n",
      "\n",
      "  Item 5 --- Time left: 2 ---\n",
      "\n",
      "  Item 6 --- Time left: 1 ---\n",
      "\n",
      "  Item 5 --- Time left: 1 ---\n",
      "\n",
      "Item 6 done in 5.011592626571655 sec \n",
      "\n",
      "Item 5 done in 5.013594150543213 sec \n",
      "\n"
     ]
    }
   ],
   "source": [
    "if __name__=='__main__':\n",
    "    test_threading(6)"
   ]
  }
 ],
 "metadata": {
  "kernelspec": {
   "display_name": "Python 3",
   "language": "python",
   "name": "python3"
  },
  "language_info": {
   "codemirror_mode": {
    "name": "ipython",
    "version": 3
   },
   "file_extension": ".py",
   "mimetype": "text/x-python",
   "name": "python",
   "nbconvert_exporter": "python",
   "pygments_lexer": "ipython3",
   "version": "3.12.6"
  }
 },
 "nbformat": 4,
 "nbformat_minor": 4
}
