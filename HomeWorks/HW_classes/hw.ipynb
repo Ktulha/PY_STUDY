{
 "cells": [
  {
   "cell_type": "code",
   "execution_count": 12,
   "metadata": {},
   "outputs": [],
   "source": [
    "class Pet:\n",
    "  def  __init__(self, name:str,type:str,age:int, sex:str):\n",
    "    self._name=name\n",
    "    self._type=type\n",
    "    self._age=age\n",
    "    self._sex=sex\n",
    "\n",
    "  def get_info(self):\n",
    "    return f\" Type: {self._type}, Name: {self._name},Age: {self._age}, Sex: {self._sex}\""
   ]
  },
  {
   "cell_type": "code",
   "execution_count": 13,
   "metadata": {},
   "outputs": [],
   "source": [
    "class Dog(Pet):\n",
    "  def __init__(self, name:str, age:int, sex:str, breed:str):\n",
    "    super().__init__(name,'Dog',age,sex)\n",
    "    self._breed=breed\n",
    "  def barking(self):\n",
    "    print(\"Woof woof!\")\n",
    "  def get_info(self):\n",
    "    return f'{super().get_info()}, Breed: {self._breed}'"
   ]
  },
  {
   "cell_type": "code",
   "execution_count": 14,
   "metadata": {},
   "outputs": [],
   "source": [
    "class Cat(Pet):\n",
    "  def  __init__(self, name:str, age:int,sex:str, color:str):\n",
    "    super().__init__(name,'Cat',age,sex)\n",
    "    self._color=color\n",
    "  def meow(self):\n",
    "    print(\"Meow\")\n",
    "  def get_info(self):\n",
    "    return f'{super().get_info()}, Color: {self._color}'\n",
    "\n",
    "  \n"
   ]
  },
  {
   "cell_type": "code",
   "execution_count": 15,
   "metadata": {},
   "outputs": [],
   "source": [
    "d=Dog('Jack',3,'m','Hound')\n",
    "c=Cat('Alice',5,'f','Gray')\n"
   ]
  },
  {
   "cell_type": "code",
   "execution_count": 16,
   "metadata": {},
   "outputs": [
    {
     "data": {
      "text/plain": [
       "' Type: Dog, Name: Jack,Age: 3, Sex: m, Breed: Hound'"
      ]
     },
     "execution_count": 16,
     "metadata": {},
     "output_type": "execute_result"
    }
   ],
   "source": [
    "d.get_info()"
   ]
  },
  {
   "cell_type": "code",
   "execution_count": 17,
   "metadata": {},
   "outputs": [
    {
     "data": {
      "text/plain": [
       "' Type: Cat, Name: Alice,Age: 5, Sex: f, Color: Gray'"
      ]
     },
     "execution_count": 17,
     "metadata": {},
     "output_type": "execute_result"
    }
   ],
   "source": [
    "c.get_info()"
   ]
  },
  {
   "cell_type": "code",
   "execution_count": 18,
   "metadata": {},
   "outputs": [
    {
     "name": "stdout",
     "output_type": "stream",
     "text": [
      "Woof woof!\n"
     ]
    }
   ],
   "source": [
    "d.barking()"
   ]
  },
  {
   "cell_type": "code",
   "execution_count": 19,
   "metadata": {},
   "outputs": [
    {
     "name": "stdout",
     "output_type": "stream",
     "text": [
      "Meow\n"
     ]
    }
   ],
   "source": [
    "c.meow()"
   ]
  }
 ],
 "metadata": {
  "kernelspec": {
   "display_name": "Python 3",
   "language": "python",
   "name": "python3"
  },
  "language_info": {
   "codemirror_mode": {
    "name": "ipython",
    "version": 3
   },
   "file_extension": ".py",
   "mimetype": "text/x-python",
   "name": "python",
   "nbconvert_exporter": "python",
   "pygments_lexer": "ipython3",
   "version": "3.12.6"
  }
 },
 "nbformat": 4,
 "nbformat_minor": 2
}
