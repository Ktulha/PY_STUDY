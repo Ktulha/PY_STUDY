{
 "cells": [
  {
   "cell_type": "code",
   "execution_count": 27,
   "metadata": {},
   "outputs": [],
   "source": [
    "class Millimeter:\n",
    "    label = 'мм'\n",
    "    ratio = 1 # Отношение определяемой еденицы измерения к миллиметрам\n",
    "\n",
    "    def __init__(self, value) -> None:\n",
    "        self._value=value\n",
    "    \n",
    "    def __repr__(self) -> str:\n",
    "        return f'{self.__class__.__name__}({self._value})'\n",
    "\n",
    "\n",
    "    def as_millimeters(self) -> float:\n",
    "        \"\"\"Возвращает значение длины в миллиметах.\n",
    "\n",
    "        :rtype: float\n",
    "        :return: Значение округленное до 5 знаков после запятой\n",
    "        \"\"\"\n",
    "        return round(self._value * self.ratio, 5)\n",
    "\n",
    "class Centimeter(Millimeter):\n",
    "    label = 'см'\n",
    "    ratio = 10\n",
    "\n",
    "\n",
    "\n",
    "\n",
    "class Meter(Millimeter):\n",
    "    label = 'метр'\n",
    "    ratio = 100\n",
    "\n",
    "\n",
    "class Inch(Millimeter):\n",
    "    label = 'дюйм'\n",
    "    ratio = 25.4"
   ]
  },
  {
   "cell_type": "code",
   "execution_count": 28,
   "metadata": {},
   "outputs": [],
   "source": [
    "instance = Millimeter(Meter(13.5))"
   ]
  },
  {
   "cell_type": "code",
   "execution_count": 29,
   "metadata": {},
   "outputs": [
    {
     "name": "stdout",
     "output_type": "stream",
     "text": [
      "Millimeter(Meter(13.5))\n"
     ]
    }
   ],
   "source": [
    "print(instance)"
   ]
  },
  {
   "cell_type": "code",
   "execution_count": null,
   "metadata": {},
   "outputs": [],
   "source": []
  }
 ],
 "metadata": {
  "kernelspec": {
   "display_name": "Python 3",
   "language": "python",
   "name": "python3"
  },
  "language_info": {
   "codemirror_mode": {
    "name": "ipython",
    "version": 3
   },
   "file_extension": ".py",
   "mimetype": "text/x-python",
   "name": "python",
   "nbconvert_exporter": "python",
   "pygments_lexer": "ipython3",
   "version": "3.12.6"
  }
 },
 "nbformat": 4,
 "nbformat_minor": 2
}
