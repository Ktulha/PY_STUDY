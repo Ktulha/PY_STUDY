{
 "cells": [
  {
   "cell_type": "markdown",
   "metadata": {},
   "source": [
    "###  1. Палиндром\n",
    "\n",
    "Напишите функцию, которая принимает список строк в качестве аргументов и возвращает новый список, содержащий только строки, являющиеся палиндромами. Палиндром — это слово, которое одинаково читается как вперед так и назад (например, «racecar», «level», «deified»). Используйте лямбда-функцию, чтобы проверить, является ли строка палиндромом."
   ]
  },
  {
   "cell_type": "code",
   "execution_count": 1,
   "metadata": {},
   "outputs": [],
   "source": [
    "def get_palindromes(string_list:list):\n",
    "  is_palindrome=lambda s:  s==s[::-1]\n",
    "  return [s for s in string_list if is_palindrome(s)]\n"
   ]
  },
  {
   "cell_type": "code",
   "execution_count": null,
   "metadata": {},
   "outputs": [],
   "source": [
    "test_list=['qwerty','wertytrew','66566','Sqghgqs']\n",
    "print(get_palindromes(test_list))"
   ]
  },
  {
   "cell_type": "markdown",
   "metadata": {},
   "source": [
    "### 2. Коллатц\n",
    "​​Напишите генератор-функцию, которая генерирует последовательность Коллатца для заданного начального числа. Последовательность генерируется путем многократного применения правила к каждому числу в последовательности: если число четное, разделите его на 2, иначе умножьте его на 3 и добавьте 1. Последовательность завершается, когда достигает числа 1. Используйте замыкания для хранения текущего номера в последовательности."
   ]
  },
  {
   "cell_type": "code",
   "execution_count": 3,
   "metadata": {},
   "outputs": [],
   "source": [
    "def collatz_seq(num):\n",
    "  def generator():\n",
    "    nonlocal num\n",
    "    while num != 1:\n",
    "      yield num\n",
    "      if num % 2 == 0:\n",
    "        num = num // 2\n",
    "      else:\n",
    "        num=3*num+1\n",
    "    yield 1\n",
    "  return  generator()\n"
   ]
  },
  {
   "cell_type": "code",
   "execution_count": null,
   "metadata": {},
   "outputs": [],
   "source": [
    "start_num=14\n",
    "generate_seq=collatz_seq(start_num)\n",
    "print(list(generate_seq))"
   ]
  },
  {
   "cell_type": "markdown",
   "metadata": {},
   "source": [
    "### 3. Преобразование списка\n",
    "Напишите функцию, которая принимает на вход список целых чисел и возвращает новый список, в котором каждое целое число заменено квадратным корнем, округленным до ближайшего целого числа. Используйте аргументы с ключевыми словами, чтобы пользователь мог указать направление округления (вверх или вниз). Используйте декоратор для определения времени выполнения функции."
   ]
  },
  {
   "cell_type": "code",
   "execution_count": 5,
   "metadata": {},
   "outputs": [],
   "source": [
    "import math,time\n",
    "\n",
    "def time_log(func):\n",
    "  def timer_logger(*args,**kwargs):\n",
    "    start_time = time.time()\n",
    "    result = func(*args,**kwargs)\n",
    "    end_time = time.time()\n",
    "    print(f\"Execution time:  {end_time - start_time} seconds ({func.__name__}({args}))\")\n",
    "    return  result\n",
    "  return timer_logger\n",
    "\n",
    "@time_log\n",
    "def sqrt_modifier(num_list:list, round_mode:str='near'):\n",
    "  if round_mode not in ['up','down','near']:\n",
    "    raise ValueError(\"round_mode must be 'up', 'down', or 'near'\")\n",
    "  sqrt_list = []\n",
    "  if round_mode=='near':\n",
    "    _direction=lambda x:round(x**0.5) # vanilla mode (slow)\n",
    "  elif round_mode=='up':\n",
    "    _direction=lambda x:math.ceil(math.sqrt(x))\n",
    "  else:\n",
    "    _direction=lambda x:math.floor(math.sqrt(x))\n",
    "    \n",
    "  sqrt_list=[_direction(x) for  x in num_list]\n",
    "  return sqrt_list\n",
    "\n",
    "\n",
    "  "
   ]
  },
  {
   "cell_type": "code",
   "execution_count": null,
   "metadata": {},
   "outputs": [],
   "source": [
    "nums=[1,10,253,25,43,11114455,67,34,5,99]\n",
    "up_dir=sqrt_modifier(nums,'up')\n",
    "down_dir=sqrt_modifier(nums,'down')\n",
    "near_dir=sqrt_modifier(nums)\n",
    "\n",
    "print(up_dir,down_dir,near_dir,sep='\\n')  "
   ]
  }
 ],
 "metadata": {
  "kernelspec": {
   "display_name": "Python 3",
   "language": "python",
   "name": "python3"
  },
  "language_info": {
   "codemirror_mode": {
    "name": "ipython",
    "version": 3
   },
   "file_extension": ".py",
   "mimetype": "text/x-python",
   "name": "python",
   "nbconvert_exporter": "python",
   "pygments_lexer": "ipython3",
   "version": "3.12.6"
  }
 },
 "nbformat": 4,
 "nbformat_minor": 2
}
