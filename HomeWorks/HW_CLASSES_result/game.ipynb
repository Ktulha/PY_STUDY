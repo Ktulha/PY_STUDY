{
 "cells": [
  {
   "cell_type": "code",
   "execution_count": 1,
   "metadata": {},
   "outputs": [],
   "source": [
    "class Character:\n",
    "  _pos_x=0\n",
    "  _pos_y=0\n",
    "  _level=0\n",
    "  _health=4\n",
    "  def walk(self,step:int):\n",
    "    self._pos_x += step\n",
    "    self._pos_x = min(self._pos_x, 1000)\n",
    "    self._pos_x = max(self._pos_x, 0)\n",
    "  \n",
    "  def jump(self,step:int):\n",
    "    self._pos_y += step\n",
    "    self._pos_y=max(self._pos_y,0)\n",
    "    self._pos_y=min(self._pos_y,100)\n",
    "  \n",
    "  \n"
   ]
  },
  {
   "cell_type": "code",
   "execution_count": 2,
   "metadata": {},
   "outputs": [],
   "source": [
    "user=Character()"
   ]
  },
  {
   "cell_type": "code",
   "execution_count": 3,
   "metadata": {},
   "outputs": [
    {
     "data": {
      "text/plain": [
       "2"
      ]
     },
     "execution_count": 3,
     "metadata": {},
     "output_type": "execute_result"
    }
   ],
   "source": [
    "user.walk(2)\n",
    "user._pos_x"
   ]
  },
  {
   "cell_type": "code",
   "execution_count": null,
   "metadata": {},
   "outputs": [],
   "source": []
  }
 ],
 "metadata": {
  "kernelspec": {
   "display_name": "Python 3",
   "language": "python",
   "name": "python3"
  },
  "language_info": {
   "codemirror_mode": {
    "name": "ipython",
    "version": 3
   },
   "file_extension": ".py",
   "mimetype": "text/x-python",
   "name": "python",
   "nbconvert_exporter": "python",
   "pygments_lexer": "ipython3",
   "version": "3.12.6"
  }
 },
 "nbformat": 4,
 "nbformat_minor": 2
}
